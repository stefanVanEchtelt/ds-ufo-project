{
 "cells": [
  {
   "cell_type": "markdown",
   "metadata": {},
   "source": [
    "<h1>Ufo data analyse</h1>\n",
    "In dit document gaan we een analyse maken van de ufo dataset. Dit gaan we doen aan de hand van een aantal deelvragen die we hebben opgesteld. Voor deze deelvragen gaan we alles netjes uitwerken in diagrammen zodat er gemakkelijk e \n"
   ]
  },
  {
   "cell_type": "code",
   "execution_count": 1,
   "metadata": {},
   "outputs": [],
   "source": [
    "# The imports we will use in the rest of our project\n",
    "import numpy as np\n",
    "import matplotlib as mpl\n",
    "import pandas as pd\n",
    "import matplotlib.pyplot as plt"
   ]
  },
  {
   "cell_type": "markdown",
   "metadata": {},
   "source": [
    "<h1>Data collection</h1>\n",
    "Data collection voor het UFO project is al aangeleverd door de HU. Deze ruwe data is eerder verzameld door derde partijen.\n",
    "<br> \n",
    "Er wordt wel gebruik gemaakt van een externe dataset vanuit \n",
    "<a href=\"https://en.wikipedia.org/wiki/Drugs_in_the_United_States\" >Drugs in the United States(Wikipedia)\n",
    "</a>. \n",
    "\n",
    " "
   ]
  },
  {
   "cell_type": "code",
   "execution_count": 2,
   "metadata": {},
   "outputs": [],
   "source": [
    "# inladen van de orginelen Ufo dataset\n",
    "# er is alvast een id column toegevoed aan de dataset omdat deze een column misten\n",
    "ufoData = pd.read_csv(\"ufo.csv\", sep=\",\", dtype={\"id\" : \"int\",\n",
    "                                                 \"datetime\" : \"str\",\n",
    "                                                 \"city\" : \"str\",\n",
    "                                                 \"state\" : \"str\",\n",
    "                                                 \"country\" : \"str\",\n",
    "                                                 \"shape\" : \"str\",\n",
    "                                                 \"duration (seconds)\" : \"str\",\n",
    "                                                 \"duration (hours/min)\" : \"str\",\n",
    "                                                 \"comments\" : \"str\",\n",
    "                                                 \"date posted\" : \"str\",\n",
    "                                                 \"latitude\" : \"str\",\n",
    "                                                 \"longitude\" : \"str\",\n",
    "                                                 \"visit (seconds)\" : \"str\"})\n",
    "\n",
    "# inladen amerikaanse drugs gebruik van dataset https://en.wikipedia.org/wiki/Drugs_in_the_United_States\n",
    "americanDrugUsageData = pd.read_csv(\"drug_usage.csv\", sep=\",\")"
   ]
  },
  {
   "cell_type": "markdown",
   "metadata": {},
   "source": [
    "<h1>Data processing</h1>\n",
    "In dit onderdeel vormen we de dataset om geordende data te krijgen"
   ]
  },
  {
   "cell_type": "code",
   "execution_count": 3,
   "metadata": {},
   "outputs": [],
   "source": [
    "# Veranderen van namen van de amerikaanse drugs gebruik csv\n",
    "americanDrugUsageData.columns = ['Staat','Populatie', 'Drugs gebruikers %', 'Doden', 'Doden per 100,00', 'Subsidie', 'Subsidie per gebruiker']"
   ]
  },
  {
   "cell_type": "markdown",
   "metadata": {},
   "source": [
    "<h1>Data cleaning</h1>\n",
    "Bij deze stap halen we dubbele en missende data uit de dataset om als vervolg schone data te krijgen."
   ]
  },
  {
   "cell_type": "code",
   "execution_count": 4,
   "metadata": {},
   "outputs": [],
   "source": [
    "ufoData[\"duration (seconds)\"] = ufoData[\"duration (seconds)\"].replace(regex=True, to_replace=r'\\D', value='')\n",
    "ufoData[\"duration (seconds)\"] = ufoData[\"duration (seconds)\"].astype(\"float\")\n",
    "\n",
    "ufoData[\"latitude\"] = ufoData[\"latitude\"].replace(regex=True,to_replace=r'\\D',value='')\n",
    "ufoData[\"latitude\"] = ufoData[\"latitude\"].astype(\"float\")\n",
    "\n",
    "ufoData[\"longitude\"] = ufoData[\"longitude\"].replace(regex=True,to_replace=r'\\D',value='')\n",
    "ufoData[\"longitude\"] = ufoData[\"longitude\"].astype(\"float\")\n",
    "\n",
    "ufoData[\"visit (seconds)\"] = ufoData[\"visit (seconds)\"].replace(regex=True,to_replace=r'\\D',value='')\n",
    "ufoData[\"visit (seconds)\"] = ufoData[\"visit (seconds)\"].astype(\"float\")"
   ]
  },
  {
   "cell_type": "markdown",
   "metadata": {},
   "source": [
    "Om de data goed te kunnen verwerken moeten de datatypes overkomen met de data. \n",
    "\n",
    "Met het inladen van de data hebben we de datatypes al waar mogelijk goed genoteerd, maar bij sommige waardes zaten fouten(letters tussen de cijfers).\n",
    "\n",
    "Met bovenstaande code hebben we van duration (seconds), latitude, longitude & visit (seconds) eerst alle waardes die geen cijfers zijn verwijderd. En vervolgens het datatype omgezet naar float."
   ]
  },
  {
   "cell_type": "code",
   "execution_count": 5,
   "metadata": {},
   "outputs": [],
   "source": [
    "# Om de datetime goed te kunnen gebruiken hebben we dit met bovenstaande code omgezet naar het datatype 'datetime'\n",
    "ufoData[\"datetime\"] = pd.to_datetime(ufoData[\"datetime\"], format='%d/%m/%Y %H:%M', errors='coerce')\n",
    "\n",
    "for item in ufoData.duplicated():\n",
    "    if item == True:\n",
    "        print(item)"
   ]
  },
  {
   "cell_type": "code",
   "execution_count": 6,
   "metadata": {},
   "outputs": [],
   "source": [
    "# Verwijderen van onnodige data in de amerikaanse drugs gebruik csv\n",
    "del americanDrugUsageData['Doden']\n",
    "del americanDrugUsageData['Doden per 100,00']\n",
    "del americanDrugUsageData['Subsidie']\n",
    "del americanDrugUsageData['Subsidie per gebruiker']\n",
    "\n",
    "# Verwijderen van extra leestekens in de drugs gebruik dataset\n",
    "americanDrugUsageData['Drugs gebruikers %'] = americanDrugUsageData['Drugs gebruikers %'].str.split('%', n = 1, expand = True)[0]\n",
    "americanDrugUsageData['Drugs gebruikers %'] = americanDrugUsageData['Drugs gebruikers %'].astype(float)"
   ]
  },
  {
   "cell_type": "markdown",
   "metadata": {},
   "source": [
    "<h1>Data exploration & analysis</h1>\n",
    "Om inzicht te krijgen in de dataset maken we gebruik van visualisaties om de data te kunnen analyseren. "
   ]
  },
  {
   "cell_type": "code",
   "execution_count": 7,
   "metadata": {},
   "outputs": [
    {
     "data": {
      "text/html": [
       "<div>\n",
       "<style scoped>\n",
       "    .dataframe tbody tr th:only-of-type {\n",
       "        vertical-align: middle;\n",
       "    }\n",
       "\n",
       "    .dataframe tbody tr th {\n",
       "        vertical-align: top;\n",
       "    }\n",
       "\n",
       "    .dataframe thead th {\n",
       "        text-align: right;\n",
       "    }\n",
       "</style>\n",
       "<table border=\"1\" class=\"dataframe\">\n",
       "  <thead>\n",
       "    <tr style=\"text-align: right;\">\n",
       "      <th></th>\n",
       "      <th>Aantal</th>\n",
       "    </tr>\n",
       "    <tr>\n",
       "      <th>country</th>\n",
       "      <th></th>\n",
       "    </tr>\n",
       "  </thead>\n",
       "  <tbody>\n",
       "    <tr>\n",
       "      <td>au</td>\n",
       "      <td>593</td>\n",
       "    </tr>\n",
       "    <tr>\n",
       "      <td>ca</td>\n",
       "      <td>3266</td>\n",
       "    </tr>\n",
       "    <tr>\n",
       "      <td>de</td>\n",
       "      <td>112</td>\n",
       "    </tr>\n",
       "    <tr>\n",
       "      <td>gb</td>\n",
       "      <td>2050</td>\n",
       "    </tr>\n",
       "    <tr>\n",
       "      <td>us</td>\n",
       "      <td>70293</td>\n",
       "    </tr>\n",
       "  </tbody>\n",
       "</table>\n",
       "</div>"
      ],
      "text/plain": [
       "         Aantal\n",
       "country        \n",
       "au          593\n",
       "ca         3266\n",
       "de          112\n",
       "gb         2050\n",
       "us        70293"
      ]
     },
     "execution_count": 7,
     "metadata": {},
     "output_type": "execute_result"
    }
   ],
   "source": [
    "aantalPerCountry = pd.DataFrame(ufoData.groupby([\"country\"]).size())\n",
    "aantalPerCountry.rename(columns={0 : \"Aantal\"}, inplace=True)\n",
    "aantalPerCountry"
   ]
  },
  {
   "cell_type": "code",
   "execution_count": 8,
   "metadata": {},
   "outputs": [
    {
     "data": {
      "text/html": [
       "<div>\n",
       "<style scoped>\n",
       "    .dataframe tbody tr th:only-of-type {\n",
       "        vertical-align: middle;\n",
       "    }\n",
       "\n",
       "    .dataframe tbody tr th {\n",
       "        vertical-align: top;\n",
       "    }\n",
       "\n",
       "    .dataframe thead th {\n",
       "        text-align: right;\n",
       "    }\n",
       "</style>\n",
       "<table border=\"1\" class=\"dataframe\">\n",
       "  <thead>\n",
       "    <tr style=\"text-align: right;\">\n",
       "      <th></th>\n",
       "      <th>Aantal</th>\n",
       "    </tr>\n",
       "    <tr>\n",
       "      <th>shape</th>\n",
       "      <th></th>\n",
       "    </tr>\n",
       "  </thead>\n",
       "  <tbody>\n",
       "    <tr>\n",
       "      <td>changed</td>\n",
       "      <td>1</td>\n",
       "    </tr>\n",
       "    <tr>\n",
       "      <td>changing</td>\n",
       "      <td>2140</td>\n",
       "    </tr>\n",
       "    <tr>\n",
       "      <td>chevron</td>\n",
       "      <td>1007</td>\n",
       "    </tr>\n",
       "    <tr>\n",
       "      <td>cigar</td>\n",
       "      <td>2241</td>\n",
       "    </tr>\n",
       "    <tr>\n",
       "      <td>circle</td>\n",
       "      <td>8453</td>\n",
       "    </tr>\n",
       "    <tr>\n",
       "      <td>cone</td>\n",
       "      <td>367</td>\n",
       "    </tr>\n",
       "    <tr>\n",
       "      <td>crescent</td>\n",
       "      <td>2</td>\n",
       "    </tr>\n",
       "    <tr>\n",
       "      <td>cross</td>\n",
       "      <td>265</td>\n",
       "    </tr>\n",
       "    <tr>\n",
       "      <td>cylinder</td>\n",
       "      <td>1382</td>\n",
       "    </tr>\n",
       "    <tr>\n",
       "      <td>delta</td>\n",
       "      <td>8</td>\n",
       "    </tr>\n",
       "    <tr>\n",
       "      <td>diamond</td>\n",
       "      <td>1308</td>\n",
       "    </tr>\n",
       "    <tr>\n",
       "      <td>disk</td>\n",
       "      <td>6005</td>\n",
       "    </tr>\n",
       "    <tr>\n",
       "      <td>dome</td>\n",
       "      <td>1</td>\n",
       "    </tr>\n",
       "    <tr>\n",
       "      <td>egg</td>\n",
       "      <td>845</td>\n",
       "    </tr>\n",
       "    <tr>\n",
       "      <td>fireball</td>\n",
       "      <td>6562</td>\n",
       "    </tr>\n",
       "    <tr>\n",
       "      <td>flare</td>\n",
       "      <td>1</td>\n",
       "    </tr>\n",
       "    <tr>\n",
       "      <td>flash</td>\n",
       "      <td>1472</td>\n",
       "    </tr>\n",
       "    <tr>\n",
       "      <td>formation</td>\n",
       "      <td>2657</td>\n",
       "    </tr>\n",
       "    <tr>\n",
       "      <td>hexagon</td>\n",
       "      <td>1</td>\n",
       "    </tr>\n",
       "    <tr>\n",
       "      <td>light</td>\n",
       "      <td>17872</td>\n",
       "    </tr>\n",
       "    <tr>\n",
       "      <td>other</td>\n",
       "      <td>6247</td>\n",
       "    </tr>\n",
       "    <tr>\n",
       "      <td>oval</td>\n",
       "      <td>4119</td>\n",
       "    </tr>\n",
       "    <tr>\n",
       "      <td>pyramid</td>\n",
       "      <td>1</td>\n",
       "    </tr>\n",
       "    <tr>\n",
       "      <td>rectangle</td>\n",
       "      <td>1418</td>\n",
       "    </tr>\n",
       "    <tr>\n",
       "      <td>round</td>\n",
       "      <td>2</td>\n",
       "    </tr>\n",
       "    <tr>\n",
       "      <td>sphere</td>\n",
       "      <td>5755</td>\n",
       "    </tr>\n",
       "    <tr>\n",
       "      <td>teardrop</td>\n",
       "      <td>817</td>\n",
       "    </tr>\n",
       "    <tr>\n",
       "      <td>triangle</td>\n",
       "      <td>8489</td>\n",
       "    </tr>\n",
       "    <tr>\n",
       "      <td>unknown</td>\n",
       "      <td>6319</td>\n",
       "    </tr>\n",
       "  </tbody>\n",
       "</table>\n",
       "</div>"
      ],
      "text/plain": [
       "           Aantal\n",
       "shape            \n",
       "changed         1\n",
       "changing     2140\n",
       "chevron      1007\n",
       "cigar        2241\n",
       "circle       8453\n",
       "cone          367\n",
       "crescent        2\n",
       "cross         265\n",
       "cylinder     1382\n",
       "delta           8\n",
       "diamond      1308\n",
       "disk         6005\n",
       "dome            1\n",
       "egg           845\n",
       "fireball     6562\n",
       "flare           1\n",
       "flash        1472\n",
       "formation    2657\n",
       "hexagon         1\n",
       "light       17872\n",
       "other        6247\n",
       "oval         4119\n",
       "pyramid         1\n",
       "rectangle    1418\n",
       "round           2\n",
       "sphere       5755\n",
       "teardrop      817\n",
       "triangle     8489\n",
       "unknown      6319"
      ]
     },
     "execution_count": 8,
     "metadata": {},
     "output_type": "execute_result"
    }
   ],
   "source": [
    "aantalPerShape = pd.DataFrame(ufoData.groupby([\"shape\"]).size())\n",
    "aantalPerShape.rename(columns={0 : \"Aantal\"}, inplace=True)\n",
    "aantalPerShape"
   ]
  },
  {
   "cell_type": "code",
   "execution_count": 9,
   "metadata": {},
   "outputs": [
    {
     "name": "stdout",
     "output_type": "stream",
     "text": [
      "Gemiddelde visit: 252.47096832395493\n"
     ]
    },
    {
     "data": {
      "image/png": "[encoded data removed]",
      "text/plain": [
       "<Figure size 432x288 with 1 Axes>"
      ]
     },
     "metadata": {
      "needs_background": "light"
     },
     "output_type": "display_data"
    }
   ],
   "source": [
    "# berekenen van de gemiddelde duur van een bezoek aan de website\n",
    "gemiddeldeVisitDuration = ufoData['visit (seconds)'].mean()\n",
    "print('Gemiddelde visit: ' + str(gemiddeldeVisitDuration))\n",
    "\n",
    "# maak boxplot van de duur van een visit in seconden\n",
    "visitDurationBoxplot = ufoData.boxplot(column=['visit (seconds)'])"
   ]
  },
  {
   "cell_type": "markdown",
   "metadata": {},
   "source": [
    "TODO uitleggen boxplot"
   ]
  },
  {
   "cell_type": "code",
   "execution_count": 10,
   "metadata": {},
   "outputs": [
    {
     "name": "stdout",
     "output_type": "stream",
     "text": [
      "Gemiddelde duur sighting: 8392.919426683357\n"
     ]
    },
    {
     "data": {
      "image/png": "[encoded data removed]",
      "text/plain": [
       "<Figure size 432x288 with 1 Axes>"
      ]
     },
     "metadata": {
      "needs_background": "light"
     },
     "output_type": "display_data"
    }
   ],
   "source": [
    "# berekenen van de gemiddelde duur van een ufo sighting\n",
    "gemiddeldeDuurSighting = ufoData['duration (seconds)'].mean()\n",
    "print('Gemiddelde duur sighting: ' + str(gemiddeldeDuurSighting))\n",
    "\n",
    "duurSightingBoxplog = ufoData.boxplot(column=['duration (seconds)'])"
   ]
  },
  {
   "cell_type": "markdown",
   "metadata": {},
   "source": [
    "TODO uitleggen boxplot. We hebben hier een uitschieter(s), deze weten we niet zo goed op te lossen. Volgende les gaan we dit vragen aan u."
   ]
  },
  {
   "cell_type": "code",
   "execution_count": 11,
   "metadata": {},
   "outputs": [
    {
     "name": "stdout",
     "output_type": "stream",
     "text": [
      "Gemiddelde: 8.368823529411763\n"
     ]
    },
    {
     "data": {
      "image/png": "[encoded data removed]",
      "text/plain": [
       "<Figure size 432x288 with 1 Axes>"
      ]
     },
     "metadata": {
      "needs_background": "light"
     },
     "output_type": "display_data"
    }
   ],
   "source": [
    "# berekenen van gemiddelde drugs gebruik in amerika\n",
    "gemiddeldeDrugUsagePercentage = americanDrugUsageData['Drugs gebruikers %'].mean()\n",
    "print('Gemiddelde: ' + str(gemiddeldeDrugUsagePercentage))\n",
    "\n",
    "# maak een boxplot van de Drugs gebruikers % \n",
    "drugUsageUsersBoxplot = americanDrugUsageData.boxplot(column=['Drugs gebruikers %'])"
   ]
  },
  {
   "cell_type": "markdown",
   "metadata": {},
   "source": [
    "TODO uitleggen boxplot"
   ]
  },
  {
   "cell_type": "code",
   "execution_count": 12,
   "metadata": {},
   "outputs": [
    {
     "data": {
      "text/plain": [
       "<matplotlib.axes._subplots.AxesSubplot at 0x21d45e0da48>"
      ]
     },
     "execution_count": 12,
     "metadata": {},
     "output_type": "execute_result"
    },
    {
     "data": {
      "image/png": "[encoded data removed]",
      "text/plain": [
       "<Figure size 1440x432 with 1 Axes>"
      ]
     },
     "metadata": {
      "needs_background": "light"
     },
     "output_type": "display_data"
    }
   ],
   "source": [
    "drugPercentageStateBar = pd.DataFrame({'Percentage':americanDrugUsageData['Drugs gebruikers %'].astype('float').values}, index=americanDrugUsageData['Staat'])\n",
    "drugPercentageStateBar.plot.bar(figsize=(20, 6), fontsize=15)"
   ]
  },
  {
   "cell_type": "markdown",
   "metadata": {},
   "source": [
    "<h1>Model building</h1>\n",
    "We gaan hier gebruik maken van machine learning om verbanden te leggen tussen de variabelen en hieruit een voorspellend model te maken van de geanalyseerde data."
   ]
  },
  {
   "cell_type": "code",
   "execution_count": null,
   "metadata": {},
   "outputs": [],
   "source": []
  },
  {
   "cell_type": "markdown",
   "metadata": {},
   "source": [
    "<h1>Visualization</h1>\n",
    "Voor een verbeterde verkenning van de data worden er verschillende visualisaties gebruikt passend bij de dataset. \n",
    "Dit wordt gedaan om zo meer inzicht te krijgen in de dataset. \n",
    "Hier wordt bijvoorbeeld gebruik gemaakt van Matplatlib en Holoviews. "
   ]
  },
  {
   "cell_type": "code",
   "execution_count": null,
   "metadata": {},
   "outputs": [],
   "source": []
  },
  {
   "cell_type": "markdown",
   "metadata": {},
   "source": [
    "<h1>Communication</h1>\n",
    "Bij het onderzoek is het duidel"
   ]
  },
  {
   "cell_type": "code",
   "execution_count": null,
   "metadata": {},
   "outputs": [],
   "source": []
  },
  {
   "cell_type": "markdown",
   "metadata": {},
   "source": [
    "Heeft drugsgebruik invloed op UFO-waarnemingen in Amerika?"
   ]
  },
  {
   "cell_type": "code",
   "execution_count": null,
   "metadata": {},
   "outputs": [],
   "source": []
  },
  {
   "cell_type": "markdown",
   "metadata": {},
   "source": [
    "Laat een map zien van de UFO-waarnemingen in een bepaalde geselecteerde periode."
   ]
  },
  {
   "cell_type": "code",
   "execution_count": null,
   "metadata": {},
   "outputs": [],
   "source": []
  },
  {
   "cell_type": "markdown",
   "metadata": {},
   "source": [
    "Is er een verband tussen tijdstip van de dag en de duur van het zien van de UFO?"
   ]
  },
  {
   "cell_type": "code",
   "execution_count": null,
   "metadata": {},
   "outputs": [],
   "source": []
  },
  {
   "cell_type": "markdown",
   "metadata": {},
   "source": [
    "In hoeverre is er een verband tussen de vorm van de UFO en het land van de waarneming?"
   ]
  },
  {
   "cell_type": "code",
   "execution_count": null,
   "metadata": {},
   "outputs": [],
   "source": []
  },
  {
   "cell_type": "markdown",
   "metadata": {},
   "source": [
    "Is er een verband tussen tijdstip van de dag en de duur van het zien van de UFO?"
   ]
  },
  {
   "cell_type": "code",
   "execution_count": null,
   "metadata": {},
   "outputs": [],
   "source": []
  },
  {
   "cell_type": "markdown",
   "metadata": {},
   "source": [
    "Onderzoek met de dataset of Duitsers minder tijd op de website doorbrengen dan gemiddeld"
   ]
  },
  {
   "cell_type": "code",
   "execution_count": null,
   "metadata": {},
   "outputs": [],
   "source": []
  }
 ],
 "metadata": {
  "kernelspec": {
   "display_name": "Python 3",
   "language": "python",
   "name": "python3"
  },
  "language_info": {
   "codemirror_mode": {
    "name": "ipython",
    "version": 3
   },
   "file_extension": ".py",
   "mimetype": "text/x-python",
   "name": "python",
   "nbconvert_exporter": "python",
   "pygments_lexer": "ipython3",
   "version": "3.7.4"
  }
 },
 "nbformat": 4,
 "nbformat_minor": 2
}
