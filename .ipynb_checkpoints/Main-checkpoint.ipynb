{
 "cells": [
  {
   "cell_type": "markdown",
   "metadata": {},
   "source": [
    "<h1>Ufo data analyse</h1>\n",
    "In dit document gaan we een analyse maken van de ufo dataset. Dit gaan we doen aan de hand van een aantal deelvragen die we hebben opgesteld. Voor deze deelvragen gaan we alles netjes uitwerken in diagrammen zodat er gemakkelijk e \n"
   ]
  },
  {
   "cell_type": "code",
   "execution_count": 1,
   "metadata": {},
   "outputs": [],
   "source": [
    "# The imports we will use in the rest of our project\n",
    "import numpy as np\n",
    "import matplotlib as mpl\n",
    "import pandas as pd"
   ]
  },
  {
   "cell_type": "markdown",
   "metadata": {},
   "source": [
    "<h1>Data collection</h1>\n",
    "Data collection voor het UFO project is al aangeleverd door de HU. Deze ruwe data is eerder verzameld door derde partijen.\n",
    "<br> \n",
    "Er wordt wel gebruik gemaakt van een externe dataset vanuit \n",
    "<a href=\"https://en.wikipedia.org/wiki/Drugs_in_the_United_States\" >Drugs in the United States(Wikipedia)\n",
    "</a>. \n",
    "\n",
    " "
   ]
  },
  {
   "cell_type": "code",
   "execution_count": 2,
   "metadata": {},
   "outputs": [],
   "source": [
    "# inladen van de orginelen Ufo dataset\n",
    "# er is alvast een id column toegevoed aan de dataset omdat deze een column misten\n",
    "ufoData = pd.read_csv(\"ufo.csv\", sep=\",\", dtype={\"id\" : \"int\",\n",
    "                                                 \"datetime\" : \"str\",\n",
    "                                                 \"city\" : \"str\",\n",
    "                                                 \"state\" : \"str\",\n",
    "                                                 \"country\" : \"str\",\n",
    "                                                 \"shape\" : \"str\",\n",
    "                                                 \"duration (seconds)\" : \"str\",\n",
    "                                                 \"duration (hours/min)\" : \"str\",\n",
    "                                                 \"comments\" : \"str\",\n",
    "                                                 \"date posted\" : \"str\",\n",
    "                                                 \"latitude\" : \"str\",\n",
    "                                                 \"longitude\" : \"str\",\n",
    "                                                 \"visit (seconds)\" : \"str\"})\n",
    "\n",
    "# inladen amerikaanse drugs gebruik van dataset https://en.wikipedia.org/wiki/Drugs_in_the_United_States\n",
    "americanDrugUsageData = pd.read_csv(\"drug_usage.csv\", sep=\",\")"
   ]
  },
  {
   "cell_type": "markdown",
   "metadata": {},
   "source": [
    "<h1>Data processing</h1>\n",
    "In dit onderdeel vormen we de dataset om geordende data te krijgen"
   ]
  },
  {
   "cell_type": "code",
   "execution_count": 3,
   "metadata": {},
   "outputs": [],
   "source": [
    "# Veranderen van namen van de amerikaanse drugs gebruik csv\n",
    "americanDrugUsageData.columns = ['Staat','Populatie', 'Drugs gebruikers %', 'Doden', 'Doden per 100,00', 'Subsidie', 'Subsidie per gebruiker']"
   ]
  },
  {
   "cell_type": "markdown",
   "metadata": {},
   "source": [
    "<h1>Data cleaning</h1>\n",
    "Bij deze stap halen we dubbele en missende data uit de dataset om als vervolg schone data te krijgen."
   ]
  },
  {
   "cell_type": "code",
   "execution_count": 4,
   "metadata": {},
   "outputs": [],
   "source": [
    "ufoData[\"duration (seconds)\"] = ufoData[\"duration (seconds)\"].replace(regex=True, to_replace=r'\\D', value='')\n",
    "ufoData[\"duration (seconds)\"] = ufoData[\"duration (seconds)\"].astype(\"float\")\n",
    "\n",
    "ufoData[\"latitude\"] = ufoData[\"latitude\"].replace(regex=True,to_replace=r'\\D',value='')\n",
    "ufoData[\"latitude\"] = ufoData[\"latitude\"].astype(\"float\")\n",
    "\n",
    "ufoData[\"longitude\"] = ufoData[\"longitude\"].replace(regex=True,to_replace=r'\\D',value='')\n",
    "ufoData[\"longitude\"] = ufoData[\"longitude\"].astype(\"float\")\n",
    "\n",
    "ufoData[\"visit (seconds)\"] = ufoData[\"visit (seconds)\"].replace(regex=True,to_replace=r'\\D',value='')\n",
    "ufoData[\"visit (seconds)\"] = ufoData[\"visit (seconds)\"].astype(\"float\")\n",
    "\n",
    "ufoData[\"datetime\"] = pd.to_datetime(ufoData[\"datetime\"], format='%d/%m/%Y %H:%M', errors='coerce')\n",
    "\n",
    "for item in ufoData.duplicated():\n",
    "    if item == True:\n",
    "        print(item)"
   ]
  },
  {
   "cell_type": "code",
   "execution_count": 5,
   "metadata": {},
   "outputs": [],
   "source": [
    "# Verwijderen van onnodige data in de amerikaanse drugs gebruik csv\n",
    "del americanDrugUsageData['Doden']\n",
    "del americanDrugUsageData['Doden per 100,00']\n",
    "del americanDrugUsageData['Subsidie']\n",
    "del americanDrugUsageData['Subsidie per gebruiker']\n",
    "\n",
    "# Verwijderen van extra leestekens in de drugs gebruik dataset\n",
    "americanDrugUsageData['Drugs gebruikers %'] = americanDrugUsageData['Drugs gebruikers %'].str.split('%', n = 1, expand = True)[0]\n",
    "americanDrugUsageData['Drugs gebruikers %'] = americanDrugUsageData['Drugs gebruikers %'].astype(float)"
   ]
  },
  {
   "cell_type": "markdown",
   "metadata": {},
   "source": [
    "<h1>Data exploration & analysis</h1>\n",
    "Om inzicht te krijgen in de dataset maken we gebruik van visualisaties om de data te kunnen analyseren. "
   ]
  },
  {
   "cell_type": "code",
   "execution_count": 6,
   "metadata": {},
   "outputs": [],
   "source": [
    "# maak een boxplot van de Drugs gebruikers % \n",
    "drugUsageBoxplot = americanDrugUsageData.boxplot(column=['Drugs gebruikers %'])"
   ]
  },
  {
   "cell_type": "markdown",
   "metadata": {},
   "source": [
    "<h1>Model building</h1>\n",
    "We gaan hier gebruik maken van machine learning om verbanden te leggen tussen de variabelen en hieruit een voorspellend model te maken van de geanalyseerde data."
   ]
  },
  {
   "cell_type": "code",
   "execution_count": null,
   "metadata": {},
   "outputs": [],
   "source": []
  },
  {
   "cell_type": "markdown",
   "metadata": {},
   "source": [
    "<h1>Visualization</h1>\n",
    "Voor een verbeterde verkenning van de data worden er verschillende visualisaties gebruikt passend bij de dataset. \n",
    "Dit wordt gedaan om zo meer inzicht te krijgen in de dataset. \n",
    "Hier wordt bijvoorbeeld gebruik gemaakt van Matplatlib en Holoviews. "
   ]
  },
  {
   "cell_type": "code",
   "execution_count": null,
   "metadata": {},
   "outputs": [],
   "source": []
  },
  {
   "cell_type": "markdown",
   "metadata": {},
   "source": [
    "<h1>Communication</h1>\n",
    "Bij het onderzoek is het duidel"
   ]
  },
  {
   "cell_type": "code",
   "execution_count": null,
   "metadata": {},
   "outputs": [],
   "source": []
  },
  {
   "cell_type": "markdown",
   "metadata": {},
   "source": [
    "Heeft drugsgebruik invloed op UFO-waarnemingen in Amerika?"
   ]
  },
  {
   "cell_type": "code",
   "execution_count": null,
   "metadata": {},
   "outputs": [],
   "source": []
  },
  {
   "cell_type": "markdown",
   "metadata": {},
   "source": [
    "Laat een map zien van de UFO-waarnemingen in een bepaalde geselecteerde periode."
   ]
  },
  {
   "cell_type": "code",
   "execution_count": null,
   "metadata": {},
   "outputs": [],
   "source": []
  },
  {
   "cell_type": "markdown",
   "metadata": {},
   "source": [
    "Is er een verband tussen tijdstip van de dag en de duur van het zien van de UFO?"
   ]
  },
  {
   "cell_type": "code",
   "execution_count": null,
   "metadata": {},
   "outputs": [],
   "source": []
  },
  {
   "cell_type": "markdown",
   "metadata": {},
   "source": [
    "In hoeverre is er een verband tussen de vorm van de UFO en het land van de waarneming?"
   ]
  },
  {
   "cell_type": "code",
   "execution_count": null,
   "metadata": {},
   "outputs": [],
   "source": []
  },
  {
   "cell_type": "markdown",
   "metadata": {},
   "source": [
    "Is er een verband tussen tijdstip van de dag en de duur van het zien van de UFO?"
   ]
  },
  {
   "cell_type": "code",
   "execution_count": null,
   "metadata": {},
   "outputs": [],
   "source": []
  },
  {
   "cell_type": "markdown",
   "metadata": {},
   "source": [
    "Onderzoek met de dataset of Duitsers minder tijd op de website doorbrengen dan gemiddeld"
   ]
  },
  {
   "cell_type": "code",
   "execution_count": null,
   "metadata": {},
   "outputs": [],
   "source": []
  }
 ],
 "metadata": {
  "kernelspec": {
   "display_name": "Python 3",
   "language": "python",
   "name": "python3"
  },
  "language_info": {
   "codemirror_mode": {
    "name": "ipython",
    "version": 3
   },
   "file_extension": ".py",
   "mimetype": "text/x-python",
   "name": "python",
   "nbconvert_exporter": "python",
   "pygments_lexer": "ipython3",
   "version": "3.7.4"
  }
 },
 "nbformat": 4,
 "nbformat_minor": 2
}
